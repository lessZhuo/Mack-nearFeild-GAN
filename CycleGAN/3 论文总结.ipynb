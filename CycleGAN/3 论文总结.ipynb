{
 "cells": [
  {
   "cell_type": "markdown",
   "metadata": {
    "collapsed": true
   },
   "source": [
    "# 论文总结"
   ]
  },
  {
   "cell_type": "markdown",
   "metadata": {
    "collapsed": true
   },
   "source": [
    "## 1 论文回顾    \n",
    "         \n",
    "** 01 研究背景 **    \n",
    "双射，域自适应/泛化，神经风格迁移   \n",
    "      \n",
    "** 02 模型设计 **    \n",
    "目标函数，模型结构，训练参数\n",
    "               \n",
    "** 03 模型评价 **    \n",
    "评价方式，baseline，模型对比   \n",
    "           \n",
    "** 04 实验分析 **    \n",
    "损失函数分析，图像重构质量，应用分析  \n",
    "\n",
    "** 05 论文代码 **    \n",
    "在monet2photo上训练莫奈绘画与照片之间的非配对图像翻译任务        "
   ]
  },
  {
   "cell_type": "markdown",
   "metadata": {
    "collapsed": true
   },
   "source": [
    "## 2 推荐资料       \n",
    "\n",
    "Deep Domain Adaptation论文集   \n",
    "https://zhuanlan.zhihu.com/p/53359505    \n",
    "\n",
    "Neural Style Transfer 神经风格迁移详解    \n",
    "https://blog.csdn.net/Cowry5/article/details/81037767\n",
    "\n",
    "ECCV 2020 ｜ 基于对抗一致性的非匹配图像转换     \n",
    "https://zhuanlan.zhihu.com/p/156092551?utm_source=wechat_session  "
   ]
  },
  {
   "cell_type": "markdown",
   "metadata": {
    "collapsed": true
   },
   "source": [
    "## 3 课后作业\n",
    "\n",
    "**【思考题】**     \n",
    "上次pix2pix的生成器中使用的是unet结构，与本次使用的resblock结构，它们相比各有什么优劣势？   \n",
    "          \n",
    " \n",
    "**【代码实践】**     \n",
    "实现一个unet结构的生成器进行模型训练，比较两种生成器的生成效果    \n",
    "        \n",
    "\n",
    "**【总结】**     \n",
    "总结列出所有常见的图像翻译任务，并区分哪些比较容易获取到配对图像，哪些难以获得配对图像    \n",
    "           "
   ]
  },
  {
   "cell_type": "markdown",
   "metadata": {
    "collapsed": true
   },
   "source": [
    "![title](figures/幻灯片21.jpg)"
   ]
  }
 ],
 "metadata": {
  "kernelspec": {
   "display_name": "Python 3",
   "language": "python",
   "name": "python3"
  },
  "language_info": {
   "codemirror_mode": {
    "name": "ipython",
    "version": 3
   },
   "file_extension": ".py",
   "mimetype": "text/x-python",
   "name": "python",
   "nbconvert_exporter": "python",
   "pygments_lexer": "ipython3",
   "version": "3.6.10"
  }
 },
 "nbformat": 4,
 "nbformat_minor": 2
}
