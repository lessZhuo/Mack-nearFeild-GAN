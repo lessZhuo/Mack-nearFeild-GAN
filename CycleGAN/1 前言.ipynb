{
 "cells": [
  {
   "cell_type": "markdown",
   "metadata": {},
   "source": [
    "# 用于非配对图像翻译的循环一致性对抗网络 \n",
    "# 《Unpaired Image-to-Image Translation using Cycle-Consistent Adversarial Networks》\n",
    "### 授课老师：李果\n",
    "\n",
    "# 1 前言\n",
    "## 1.1课程回顾\n",
    "\n",
    "<img src=\"figures/cyclegan第三课-上节回顾.svg\"  width=\"700\" height=\"700\" align=\"bottom\" />\n"
   ]
  },
  {
   "cell_type": "markdown",
   "metadata": {},
   "source": [
    "## 1.2 本课知识树\n",
    "![title](figures/cyclegan代码.png)"
   ]
  },
  {
   "cell_type": "markdown",
   "metadata": {},
   "source": [
    "## 1.3 模型结构\n",
    "<img src=\"figures/model.png\"  width=\"900\" height=\"900\" align=\"bottom\" />"
   ]
  },
  {
   "cell_type": "markdown",
   "metadata": {},
   "source": [
    "# 2 准备工作\n",
    "## 2.1项目地址       \n",
    "https://github.com/eriklindernoren/PyTorch-GAN    \n",
    "\n",
    "git clone https://github.com/eriklindernoren/PyTorch-GAN.git    \n",
    "       \n",
    "数据集下载地址： https://people.eecs.berkeley.edu/~taesung_park/CycleGAN/datasets/monet2photo.zip    \n",
    "下载后在项目文件夹 data 目录下运行脚本：（windows下可使用git bash）         \n",
    "bash download_cyclegan_dataset.sh monet2photo\n",
    "     \n",
    "IDE推荐使用 **PyCharm** 进行开发"
   ]
  },
  {
   "cell_type": "markdown",
   "metadata": {},
   "source": [
    "## 2.2环境需求     \n",
    "torch>=0.4.0    \n",
    "torchvision    \n",
    "matplotlib   \n",
    "numpy   \n",
    "scipy   \n",
    "pillow  \n",
    "urllib3   \n",
    "scikit-image     "
   ]
  },
  {
   "cell_type": "markdown",
   "metadata": {},
   "source": [
    "在项目根目录下，可使用此命令自动安装依赖库：   \n",
    "**sudo pip3 install -r requirements.txt**      \n",
    "对于pytorch，可使用此命令从国内镜像进行快速安装：    \n",
    "**pip3 install torch torchvision -i  https://pypi.mirrors.ustc.edu.cn/simple**"
   ]
  },
  {
   "cell_type": "markdown",
   "metadata": {},
   "source": [
    "# 3 项目代码结构"
   ]
  },
  {
   "cell_type": "markdown",
   "metadata": {},
   "source": [
    "![title](figures/image.png)"
   ]
  },
  {
   "cell_type": "markdown",
   "metadata": {},
   "source": [
    "** cyclegan.py **     \n",
    "参数设置，dataloader和优化器定义，Training, sample_images    \n",
    "     \n",
    "** datasets.py **      \n",
    "ImageDataset, to_rgb\n",
    "     \n",
    "** models.py **   \n",
    "GeneratorResNet，Discriminator，ResidualBlock，weights_init_normal\n",
    "\n",
    "** utils.py **     \n",
    "ReplayBuffer, LambdaLR"
   ]
  },
  {
   "cell_type": "markdown",
   "metadata": {},
   "source": [
    "# 4 代码试运行\n",
    "见PyCharm"
   ]
  }
 ],
 "metadata": {
  "kernelspec": {
   "display_name": "Python 3",
   "language": "python",
   "name": "python3"
  },
  "language_info": {
   "codemirror_mode": {
    "name": "ipython",
    "version": 3
   },
   "file_extension": ".py",
   "mimetype": "text/x-python",
   "name": "python",
   "nbconvert_exporter": "python",
   "pygments_lexer": "ipython3",
   "version": "3.6.10"
  }
 },
 "nbformat": 4,
 "nbformat_minor": 2
}
